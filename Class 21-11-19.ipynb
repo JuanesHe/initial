{
 "cells": [
  {
   "cell_type": "code",
   "execution_count": null,
   "metadata": {},
   "outputs": [],
   "source": [
    "# Create a function that will take in an array of numbers\n",
    "# and calculate the minimum/smallest number\n",
    "# e.g. getMin([-3, 6, 8, 10, 4, -5, 0]) --> -5"
   ]
  },
  {
   "cell_type": "code",
   "execution_count": 6,
   "metadata": {},
   "outputs": [
    {
     "name": "stdout",
     "output_type": "stream",
     "text": [
      "-5\n"
     ]
    }
   ],
   "source": [
    "def getMin(array):\n",
    "    tempMin = array[0]\n",
    "    for x in array:\n",
    "        if (x < tempMin):\n",
    "            tempMin = x\n",
    "    \n",
    "    print(tempMin)\n",
    "\n",
    "getMin([-3, 6, 8, 10, 4, -5, 0])"
   ]
  },
  {
   "cell_type": "code",
   "execution_count": 9,
   "metadata": {},
   "outputs": [
    {
     "name": "stdout",
     "output_type": "stream",
     "text": [
      "4\n",
      "5\n",
      "6\n"
     ]
    }
   ],
   "source": [
    "# Write a function that will take in a number, and it should\n",
    "# print a message whether the number is a prime number or not\n",
    "\n",
    "# for example checkPrime(4) -> Not a prime number\n",
    "# checkPrime(17) -> This is a prime number\n",
    "\n",
    "for i in range(4, 7):\n",
    "    print(i)"
   ]
  },
  {
   "cell_type": "code",
   "execution_count": 18,
   "metadata": {},
   "outputs": [
    {
     "name": "stdout",
     "output_type": "stream",
     "text": [
      "Not a prime number\n"
     ]
    }
   ],
   "source": [
    "def checkPrime(x):\n",
    "    counter = 0\n",
    "    for i in range(2, x):\n",
    "        if (x%i == 0):\n",
    "            # print (str(i) + \" can divide the number \" + str(x))\n",
    "            counter = counter + 1\n",
    "            # print(\"Counter is \" + str(counter))\n",
    "    if (counter == 0):\n",
    "        print(\"Prime number\")\n",
    "    else:\n",
    "        print(\"Not a prime number\")\n",
    "        \n",
    "checkPrime(12)"
   ]
  },
  {
   "cell_type": "code",
   "execution_count": null,
   "metadata": {},
   "outputs": [],
   "source": [
    "# Write a function, that will go through all the layers inside a specified\n",
    "# geodatabase, conduct a buffer analysis on all the layers that have the \n",
    "# point shape, and put the resulting layers inside a new geodatabase\n",
    "\n",
    "# How to run the function: \n",
    "# batchBuffer(\"C:/EsriTraining/firestation.gdb\", \"C:/EsriTraining/out.gdb/\", 3)"
   ]
  },
  {
   "cell_type": "code",
   "execution_count": null,
   "metadata": {},
   "outputs": [],
   "source": [
    "# TASK 1: Create an output GDB if it does not exist already\n",
    "import arcpy\n",
    "arcpy.env.overwriteOutput = True\n",
    "arcpy.env.workspace = \"C:/EsriTraining/firestation.gdb\"\n",
    "arcpy.env.overwriteOutput = True\n",
    "\n",
    "out_folder = \"C:/EsriTraining/\"\n",
    "out_gdb = \"out.gdb\"\n",
    "\n",
    "out_address = out_folder + out_gdb\n",
    "\n",
    "if not arcpy.Exists(out_address):\n",
    "    arcpy.CreateFileGDB_management(out_folder, out_gdb)  "
   ]
  },
  {
   "cell_type": "code",
   "execution_count": 32,
   "metadata": {},
   "outputs": [
    {
     "name": "stdout",
     "output_type": "stream",
     "text": [
      "We need to conduct a buffer analysis on School\n",
      "We need to conduct a buffer analysis on Existing_fire_station\n"
     ]
    }
   ],
   "source": [
    "# TASK 2: Loop through the input GDB in the arcpy.env.workspace \n",
    "# and conduct buffer analysis on the Point layers. Save the buffer layers inside the \n",
    "# previously created out.gdb\n",
    "featureclasses = arcpy.ListFeatureClasses()\n",
    "\n",
    "for fc in featureclasses:\n",
    "    # print(fc)\n",
    "    desc = arcpy.Describe(fc)\n",
    "    geometryType = desc.shapetype\n",
    "    # print(\"The geometry type of \" + fc + \" is \" + geometryType)\n",
    "    if (geometryType == \"Point\"):\n",
    "        print(\"We need to conduct a buffer analysis on \" + fc)\n",
    "        # The output location should/might be like this: C:/EsriTraining/out.gdb/<name_of_fc>_Buffer\n",
    "        # for example for the school layer -> C:/EsriTraining/out.gdb/School_Buffer\n",
    "        output_location = out_folder + out_gdb + \"/\" + fc + \"_Buffer\"\n",
    "        arcpy.Buffer_analysis(fc, output_location, \"5 Kilometers\")"
   ]
  },
  {
   "cell_type": "code",
   "execution_count": 37,
   "metadata": {},
   "outputs": [
    {
     "name": "stdout",
     "output_type": "stream",
     "text": [
      "We need to conduct a buffer analysis on School\n",
      "We need to conduct a buffer analysis on Existing_fire_station\n"
     ]
    }
   ],
   "source": [
    "def batchBuffer(workspace, out_folder, out_gdb, distance):\n",
    "    arcpy.env.workspace = workspace\n",
    "    \n",
    "    if not arcpy.Exists(out_folder + out_gdb):\n",
    "        arcpy.CreateFileGDB_management(out_folder, out_gdb)\n",
    "    featureclasses = arcpy.ListFeatureClasses()\n",
    "\n",
    "    for fc in featureclasses:\n",
    "        # print(fc)\n",
    "        desc = arcpy.Describe(fc)\n",
    "        geometryType = desc.shapetype\n",
    "        # print(\"The geometry type of \" + fc + \" is \" + geometryType)\n",
    "        if (geometryType == \"Point\"):\n",
    "            print(\"We need to conduct a buffer analysis on \" + fc)\n",
    "            # The output location should/might be like this: C:/EsriTraining/out.gdb/<name_of_fc>_Buffer\n",
    "            # for example for the school layer -> C:/EsriTraining/out.gdb/School_Buffer\n",
    "            output_location = out_folder + out_gdb + \"/\" + fc + \"_Buffer\"\n",
    "            arcpy.Buffer_analysis(fc, output_location, distance)\n",
    "        \n",
    "        \n",
    "batchBuffer(\"C:/EsriTraining/firestation.gdb\", \"C:/EsriTraining/\", \"solomon.gdb\" , \"3 Kilometers\")"
   ]
  },
  {
   "cell_type": "code",
   "execution_count": null,
   "metadata": {},
   "outputs": [],
   "source": []
  }
 ],
 "metadata": {
  "kernelspec": {
   "display_name": "Python 3",
   "language": "python",
   "name": "python3"
  },
  "language_info": {
   "codemirror_mode": {
    "name": "ipython",
    "version": 3
   },
   "file_extension": ".py",
   "mimetype": "text/x-python",
   "name": "python",
   "nbconvert_exporter": "python",
   "pygments_lexer": "ipython3",
   "version": "3.6.8"
  }
 },
 "nbformat": 4,
 "nbformat_minor": 2
}
