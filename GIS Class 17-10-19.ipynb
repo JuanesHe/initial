{
 "cells": [
  {
   "cell_type": "code",
   "execution_count": 4,
   "metadata": {},
   "outputs": [
    {
     "name": "stdout",
     "output_type": "stream",
     "text": [
      "you entered an even number\n"
     ]
    }
   ],
   "source": [
    "number = 10\n",
    "if(number % 2 == 1):\n",
    "    print(\"You entered an odd number\")    \n",
    "else:\n",
    "    print(\"you entered an even number\")\n",
    "    \n",
    "    \n",
    "        "
   ]
  },
  {
   "cell_type": "code",
   "execution_count": 8,
   "metadata": {},
   "outputs": [
    {
     "name": "stdout",
     "output_type": "stream",
     "text": [
      "6\n",
      "4\n"
     ]
    }
   ],
   "source": [
    "myList = [1, 6, 5, 4]\n",
    "for x in myList:\n",
    "    if(x%2==0):\n",
    "        print(x)\n"
   ]
  },
  {
   "cell_type": "code",
   "execution_count": 10,
   "metadata": {},
   "outputs": [
    {
     "name": "stdout",
     "output_type": "stream",
     "text": [
      "This is my first function\n"
     ]
    }
   ],
   "source": [
    "def myFunction():\n",
    "    print(\"This is my first function\")\n",
    "\n",
    "myFunction()"
   ]
  },
  {
   "cell_type": "code",
   "execution_count": 13,
   "metadata": {},
   "outputs": [
    {
     "name": "stdout",
     "output_type": "stream",
     "text": [
      "Welcome to the GIS Programming class, Benjamin\n"
     ]
    }
   ],
   "source": [
    "def welcome(name):\n",
    "    print(\"Welcome to the GIS Programming class, \" + name)\n",
    "\n",
    "welcome(\"Benjamin\")"
   ]
  },
  {
   "cell_type": "code",
   "execution_count": 22,
   "metadata": {},
   "outputs": [
    {
     "name": "stdout",
     "output_type": "stream",
     "text": [
      "5.0\n"
     ]
    }
   ],
   "source": [
    "def multiplyByTwo(number):\n",
    "    if (number > 10):\n",
    "        result = number * 2\n",
    "    else:\n",
    "        result = number / 2\n",
    "    \n",
    "    return result\n",
    "\n",
    "print(multiplyByTwo(10))"
   ]
  },
  {
   "cell_type": "code",
   "execution_count": 26,
   "metadata": {},
   "outputs": [
    {
     "name": "stdout",
     "output_type": "stream",
     "text": [
      "1\n",
      "0\n",
      "3\n",
      "Test\n"
     ]
    }
   ],
   "source": [
    "def iterateListElements(list):\n",
    "    for x in list:\n",
    "        print(x)\n",
    "\n",
    "myList = [1,0, 3, \"Test\"]\n",
    "iterateListElements(myList)"
   ]
  },
  {
   "cell_type": "code",
   "execution_count": 44,
   "metadata": {},
   "outputs": [
    {
     "data": {
      "text/plain": [
       "True"
      ]
     },
     "execution_count": 44,
     "metadata": {},
     "output_type": "execute_result"
    }
   ],
   "source": [
    "def ex5(x, y):\n",
    "    if(x == y or x+y == 5 or abs(x-y) == 5):\n",
    "        return True\n",
    "    else:\n",
    "        return False\n",
    "    \n",
    "ex5(2, 7)"
   ]
  },
  {
   "cell_type": "code",
   "execution_count": null,
   "metadata": {},
   "outputs": [],
   "source": []
  }
 ],
 "metadata": {
  "kernelspec": {
   "display_name": "Python 3",
   "language": "python",
   "name": "python3"
  },
  "language_info": {
   "codemirror_mode": {
    "name": "ipython",
    "version": 3
   },
   "file_extension": ".py",
   "mimetype": "text/x-python",
   "name": "python",
   "nbconvert_exporter": "python",
   "pygments_lexer": "ipython3",
   "version": "3.7.3"
  }
 },
 "nbformat": 4,
 "nbformat_minor": 2
}
