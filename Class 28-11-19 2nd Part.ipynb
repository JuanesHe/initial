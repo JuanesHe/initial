{
 "cells": [
  {
   "cell_type": "code",
   "execution_count": 4,
   "metadata": {},
   "outputs": [
    {
     "name": "stdout",
     "output_type": "stream",
     "text": [
      "I am creating a GDB named myFCs.gdb at C:/EsriTraining/\n"
     ]
    }
   ],
   "source": [
    "# Create a GDB if it doesn't exist\n",
    "\n",
    "import arcpy\n",
    "\n",
    "out_folder = \"C:/EsriTraining/\"\n",
    "out_gdb = \"myFCs.gdb\"\n",
    "\n",
    "if not arcpy.Exists(out_folder + out_gdb):\n",
    "    print(\"I am creating a GDB named \" + out_gdb + \" at \" + out_folder)\n",
    "    arcpy.CreateFileGDB_management(out_folder, out_gdb)"
   ]
  },
  {
   "cell_type": "code",
   "execution_count": 5,
   "metadata": {},
   "outputs": [
    {
     "data": {
      "text/plain": [
       "<Result 'C:\\\\EsriTraining\\\\myFCs.gdb\\\\habitatareas'>"
      ]
     },
     "execution_count": 5,
     "metadata": {},
     "output_type": "execute_result"
    }
   ],
   "source": [
    "# Specify the parameters of the feature class and create it\n",
    "\n",
    "out_name = \"habitatareas\"\n",
    "geometry_type = \"Polygon\"\n",
    "\n",
    "arcpy.CreateFeatureclass_management(out_folder + out_gdb, out_name, \"Polygon\")"
   ]
  },
  {
   "cell_type": "code",
   "execution_count": 6,
   "metadata": {},
   "outputs": [
    {
     "data": {
      "text/plain": [
       "<Result 'C:/EsriTraining/myFCs.gdb/habitatareas'>"
      ]
     },
     "execution_count": 6,
     "metadata": {},
     "output_type": "execute_result"
    }
   ],
   "source": [
    "# Add a field called Name\n",
    "complete_name = out_folder + out_gdb + \"/\" + out_name\n",
    "arcpy.AddField_management(complete_name, \"Name\", \"TEXT\", 255)"
   ]
  },
  {
   "cell_type": "code",
   "execution_count": 7,
   "metadata": {},
   "outputs": [
    {
     "data": {
      "text/plain": [
       "<Result 'C:/EsriTraining/myFCs.gdb/habitatareas'>"
      ]
     },
     "execution_count": 7,
     "metadata": {},
     "output_type": "execute_result"
    }
   ],
   "source": [
    "# Add another field named myId\n",
    "arcpy.AddField_management(complete_name, \"myId\", \"LONG\", 9)"
   ]
  },
  {
   "cell_type": "code",
   "execution_count": 10,
   "metadata": {},
   "outputs": [
    {
     "data": {
      "text/plain": [
       "3"
      ]
     },
     "execution_count": 10,
     "metadata": {},
     "output_type": "execute_result"
    }
   ],
   "source": [
    "# Define the coordinates of the polygon that will be added programatically\n",
    "array = arcpy.Array([\n",
    "    arcpy.Point(0,0),\n",
    "    arcpy.Point(0,1000),\n",
    "    arcpy.Point(1000, 1000),\n",
    "    arcpy.Point(1000, 0)\n",
    "])\n",
    "polygon = arcpy.Polygon(array)\n",
    "\n",
    "insertCur = arcpy.da.InsertCursor(complete_name, ['myId', 'Name', 'SHAPE@'])\n",
    "insertCur.insertRow([6, \"Hussein\", polygon])"
   ]
  },
  {
   "cell_type": "code",
   "execution_count": 15,
   "metadata": {},
   "outputs": [
    {
     "data": {
      "text/plain": [
       "8"
      ]
     },
     "execution_count": 15,
     "metadata": {},
     "output_type": "execute_result"
    }
   ],
   "source": [
    "# Define the coordinates of the polygon that will be added programatically\n",
    "array = arcpy.Array([\n",
    "    arcpy.Point(1500,0),\n",
    "    arcpy.Point(2500,0),\n",
    "    arcpy.Point(2500, 1000),\n",
    "    arcpy.Point(1500, 1000)\n",
    "])\n",
    "polygon = arcpy.Polygon(array)\n",
    "\n",
    "insertCur = arcpy.da.InsertCursor(complete_name, ['myId', 'Name', 'SHAPE@'])\n",
    "insertCur.insertRow([4, \"Juan\", polygon])"
   ]
  },
  {
   "cell_type": "code",
   "execution_count": 16,
   "metadata": {},
   "outputs": [
    {
     "data": {
      "text/plain": [
       "<Result 'C:\\\\EsriTraining\\\\myFCs.gdb\\\\myPoints'>"
      ]
     },
     "execution_count": 16,
     "metadata": {},
     "output_type": "execute_result"
    }
   ],
   "source": [
    "# Create a Point Feature Class\n",
    "arcpy.CreateFeatureclass_management(out_folder + out_gdb, \"myPoints\", \"Point\")"
   ]
  },
  {
   "cell_type": "code",
   "execution_count": 17,
   "metadata": {},
   "outputs": [],
   "source": [
    "del insertCur"
   ]
  },
  {
   "cell_type": "code",
   "execution_count": 18,
   "metadata": {},
   "outputs": [
    {
     "name": "stdout",
     "output_type": "stream",
     "text": [
      "C:/EsriTraining/myFCs.gdb/myPoints\n"
     ]
    }
   ],
   "source": [
    "# Create a variable holding the address of the point layer that I have just made\n",
    "point_layer = out_folder + out_gdb + \"/\" + \"myPoints\"\n",
    "print(point_layer)"
   ]
  },
  {
   "cell_type": "code",
   "execution_count": 43,
   "metadata": {},
   "outputs": [
    {
     "data": {
      "text/plain": [
       "21"
      ]
     },
     "execution_count": 43,
     "metadata": {},
     "output_type": "execute_result"
    }
   ],
   "source": [
    "# create cursor to access the point layer\n",
    "insertCur = arcpy.da.InsertCursor(point_layer, ['SHAPE@'])\n",
    "# add a sample point\n",
    "insertCur.insertRow([(100,50)])"
   ]
  },
  {
   "cell_type": "code",
   "execution_count": 30,
   "metadata": {},
   "outputs": [
    {
     "data": {
      "text/plain": [
       "9"
      ]
     },
     "execution_count": 30,
     "metadata": {},
     "output_type": "execute_result"
    }
   ],
   "source": []
  }
 ],
 "metadata": {
  "kernelspec": {
   "display_name": "Python 3",
   "language": "python",
   "name": "python3"
  },
  "language_info": {
   "codemirror_mode": {
    "name": "ipython",
    "version": 3
   },
   "file_extension": ".py",
   "mimetype": "text/x-python",
   "name": "python",
   "nbconvert_exporter": "python",
   "pygments_lexer": "ipython3",
   "version": "3.6.8"
  }
 },
 "nbformat": 4,
 "nbformat_minor": 2
}
