{
 "cells": [
  {
   "cell_type": "code",
   "execution_count": 7,
   "metadata": {},
   "outputs": [
    {
     "name": "stdout",
     "output_type": "stream",
     "text": [
      "True\n",
      "The file ne_10m_airports.shp exists.\n"
     ]
    }
   ],
   "source": [
    "import arcpy\n",
    "arcpy.env.workspace = \"C:/EsriTraining/moscow\"\n",
    "moscow_shp = \"moscow_adm.shp\"\n",
    "print(arcpy.Exists(moscow_shp))\n",
    "\n",
    "airport_shp = \"ne_10m_airports.shp\"\n",
    "if(arcpy.Exists(airport_shp)):\n",
    "    print(\"The file \" + airport_shp + \" exists.\")\n"
   ]
  },
  {
   "cell_type": "code",
   "execution_count": 12,
   "metadata": {},
   "outputs": [
    {
     "name": "stdout",
     "output_type": "stream",
     "text": [
      "Field name: FID has the type: OID\n",
      "Field name: Shape has the type: Geometry\n",
      "Field name: OKATO has the type: String\n",
      "Field name: OKTMO has the type: String\n",
      "Field name: RAION has the type: String\n",
      "Field name: OKRUGS has the type: String\n",
      "Field name: AREA_GEO has the type: Double\n"
     ]
    }
   ],
   "source": [
    "fields = arcpy.ListFields(moscow_shp)\n",
    "for field in fields:\n",
    "    print(\"Field name: \" + field.name + \" has the type: \" + field.type)"
   ]
  },
  {
   "cell_type": "code",
   "execution_count": 15,
   "metadata": {},
   "outputs": [
    {
     "name": "stdout",
     "output_type": "stream",
     "text": [
      "146\n",
      "891\n"
     ]
    }
   ],
   "source": [
    "print(arcpy.GetCount_management(moscow_shp))\n",
    "print(arcpy.GetCount_management(airport_shp))"
   ]
  },
  {
   "cell_type": "code",
   "execution_count": 28,
   "metadata": {},
   "outputs": [
    {
     "name": "stdout",
     "output_type": "stream",
     "text": [
      "RAION: Poselenie Novofedorovskoe has the area of 150.762617805 square kilometers\n",
      "RAION: Poselenie Rogovskoe has the area of 178.092412498 square kilometers\n",
      "RAION: Poselenie Voronovskoe has the area of 206.152376741 square kilometers\n",
      "RAION: Poselenie Pervomajskoe has the area of 118.776125461 square kilometers\n",
      "RAION: Poselenie Klenovskoe has the area of 118.182804232 square kilometers\n"
     ]
    }
   ],
   "source": [
    "# cursor = arcpy.da.SearchCursor(moscow_shp, ['FID','RAION','OKRUGS', 'AREA_GEO'])\n",
    "cursor = arcpy.da.SearchCursor(moscow_shp, ['*'])\n",
    "for row in cursor:\n",
    "    if(row[6] > 100):\n",
    "        print(\"RAION: \" + row[4] + \" has the area of \" + str(row[6]) + \" square kilometers\")"
   ]
  },
  {
   "cell_type": "code",
   "execution_count": 29,
   "metadata": {},
   "outputs": [
    {
     "name": "stdout",
     "output_type": "stream",
     "text": [
      "Poselenie Kievskij\n",
      "Filevskij Park\n",
      "Poselenie Novofedorovskoe\n",
      "Poselenie Rogovskoe\n",
      "Poselenie Mosrentgen\n",
      "Poselenie Voronovskoe\n",
      "Poselenie Mihajlovo-Jarcevskoe\n",
      "Poselenie Marushkinskoe\n",
      "Poselenie Pervomajskoe\n",
      "Matushkino\n",
      "Vnukovo\n",
      "Savelki\n",
      "Poselenie Vnukovskoe\n",
      "Silino\n",
      "Poselenie Kokoshkino\n",
      "Krjukovo\n",
      "Shhukino\n",
      "Poselenie Krasnopahorskoe\n",
      "Nagatinskij Zaton\n",
      "Staroe Krjukovo\n",
      "Poselenie Klenovskoe\n",
      "Dmitrovskoe\n",
      "Poselenie Filimonkovskoe\n",
      "Troickij okrug\n",
      "Teplyj Stan\n",
      "Poselenie Shhapovskoe\n",
      "Poselenie Moskovskij\n",
      "Poselenie Desjonovskoe\n",
      "Hovrino\n",
      "Lomonosovskoe\n",
      "Mozhajskoe\n",
      "Novo-Peredelkino\n",
      "Strogino\n",
      "Molzhaninovskoe\n",
      "Mitino\n",
      "Kurkino\n",
      "Krylatskoe\n",
      "Solncevo\n",
      "Poselenie Sosenskoe\n",
      "Poselenie Voskresenskoe\n",
      "Golovinskoe\n",
      "Juzhnoe Tushino\n",
      "Severnoe Tushino\n",
      "Cheremushki\n",
      "Pokrovskoe Streshnevo\n",
      "Horoshevo-Mnevniki\n",
      "Ochakovo-Matveevskoe\n",
      "Troparevo-Nikulino\n",
      "Levoberezhnoe\n",
      "Fili Davydkovo\n",
      "Obruchevskoe\n",
      "Poselenie Rjazanovskoe\n",
      "Ramenki\n",
      "Vojkovskoe\n",
      "Sokol\n",
      "Zapadnoe Degunino\n",
      "Prospekt Vernadskogo\n",
      "Juzhnoe Butovo\n",
      "Jasenevo\n",
      "Dorogomilovo\n",
      "Kon'kovo\n",
      "Horoshevskoe\n",
      "Begovoe\n",
      "Koptevo\n",
      "Poselenie Shherbinka\n",
      "Ajeroport\n",
      "Presnenskoe\n",
      "Severnoe\n",
      "Beskudnikovskoe\n",
      "Gagarinskoe\n",
      "Timirjazevskoe\n",
      "Severnoe Butovo\n",
      "Lianozovo\n",
      "Hamovniki\n",
      "Vostochnoe Degunino\n",
      "Savelovskoe\n",
      "Akademicheskoe\n",
      "Zjuzino\n",
      "Altuf'evskoe\n",
      "Marfino\n",
      "Chertanovo Central'noe\n",
      "Otradnoe\n",
      "Arbat\n",
      "Chertanovo Juzhnoe\n",
      "Butyrskoe\n",
      "Tverskoe\n",
      "Chertanovo Severnoe\n",
      "Jakimanka\n",
      "Kotlovka\n",
      "Ostankinskoe\n",
      "Donskoe\n",
      "Bibirevo\n",
      "Birjulevo Zapadnoe\n",
      "Mar'ina Roshha\n",
      "Nagornoe\n",
      "Sviblovo\n",
      "Danilovskoe\n",
      "Meshhanskoe\n",
      "Juzhnoe Medvedkovo\n",
      "Zamoskvorech'e\n",
      "Severnoe Medvedkovo\n",
      "Nagatino-Sadovniki\n",
      "Moskvorech'e-Saburovo\n",
      "Caricyno\n",
      "Basmannoe\n",
      "Krasnosel'skoe\n",
      "Rostokino\n",
      "Taganskoe\n",
      "Alekseevskoe\n",
      "Sokol'niki\n",
      "Birjulevo Vostochnoe\n",
      "Babushkinskoe\n",
      "Juzhnoportovoe\n",
      "Jaroslavskoe\n",
      "Pechatniki\n",
      "Bogorodskoe\n",
      "Metrogorodok\n",
      "Lefortovo\n",
      "Orehovo-Borisovo Severnoe\n",
      "Losinoostrovskoe\n",
      "Nizhegorodskoe\n",
      "Perovo\n",
      "Orehovo-Borisovo Juzhnoe\n",
      "Mar'ino\n",
      "Veshnjaki\n",
      "Preobrazhenskoe\n",
      "Sokolinaja Gora\n",
      "Ljublino\n",
      "Tekstil'shhiki\n",
      "Brateevo\n",
      "Zjablikovo\n",
      "Rjazanskij\n",
      "Izmajlovo\n",
      "Novogireevo\n",
      "Kuz'minki\n",
      "Gol'janovo\n",
      "Severnoe Izmajlovo\n",
      "Kapotnja\n",
      "Vyhino-Zhulebino\n",
      "Vostochnoe\n",
      "Vostochnoe Izmajlovo\n",
      "Ivanovskoe\n",
      "Kosino-Uhtomskoe\n",
      "Novokosino\n",
      "Nekrasovka\n",
      "Kuncevo\n"
     ]
    }
   ],
   "source": [
    "# QUESTION: Get the first three characters of the RAION field for each record\n",
    "\n",
    "cursor = arcpy.da.SearchCursor(moscow_shp, ['*'])\n",
    "for row in cursor:\n",
    "    print(row[4])\n"
   ]
  },
  {
   "cell_type": "code",
   "execution_count": 39,
   "metadata": {
    "scrolled": true
   },
   "outputs": [
    {
     "name": "stdout",
     "output_type": "stream",
     "text": [
      "Original name: Poselenie Kievskij, index: 1, modified name: P\n",
      "Original name: Filevskij Park, index: 0, modified name: \n",
      "Original name: Poselenie Novofedorovskoe, index: 3, modified name: Pos\n",
      "Original name: Poselenie Rogovskoe, index: 3, modified name: Pos\n",
      "Original name: Poselenie Mosrentgen, index: 0, modified name: \n",
      "Original name: Poselenie Voronovskoe, index: 4, modified name: Pose\n",
      "Original name: Poselenie Mihajlovo-Jarcevskoe, index: 1, modified name: P\n",
      "Original name: Poselenie Marushkinskoe, index: 1, modified name: P\n",
      "Original name: Poselenie Pervomajskoe, index: 2, modified name: Po\n",
      "Original name: Matushkino, index: 0, modified name: \n",
      "Original name: Vnukovo, index: 0, modified name: \n",
      "Original name: Savelki, index: 0, modified name: \n",
      "Original name: Poselenie Vnukovskoe, index: 0, modified name: \n",
      "Original name: Silino, index: 0, modified name: \n",
      "Original name: Poselenie Kokoshkino, index: 0, modified name: \n",
      "Original name: Krjukovo, index: 0, modified name: \n",
      "Original name: Shhukino, index: 0, modified name: \n",
      "Original name: Poselenie Krasnopahorskoe, index: 1, modified name: P\n",
      "Original name: Nagatinskij Zaton, index: 0, modified name: \n",
      "Original name: Staroe Krjukovo, index: 0, modified name: \n",
      "Original name: Poselenie Klenovskoe, index: 2, modified name: Po\n",
      "Original name: Dmitrovskoe, index: 0, modified name: \n",
      "Original name: Poselenie Filimonkovskoe, index: 0, modified name: \n",
      "Original name: Troickij okrug, index: 0, modified name: \n",
      "Original name: Teplyj Stan, index: 0, modified name: \n",
      "Original name: Poselenie Shhapovskoe, index: 1, modified name: P\n",
      "Original name: Poselenie Moskovskij, index: 0, modified name: \n",
      "Original name: Poselenie Desjonovskoe, index: 1, modified name: P\n",
      "Original name: Hovrino, index: 0, modified name: \n",
      "Original name: Lomonosovskoe, index: 0, modified name: \n",
      "Original name: Mozhajskoe, index: 0, modified name: \n",
      "Original name: Novo-Peredelkino, index: 0, modified name: \n",
      "Original name: Strogino, index: 0, modified name: \n",
      "Original name: Molzhaninovskoe, index: 0, modified name: \n",
      "Original name: Mitino, index: 0, modified name: \n",
      "Original name: Kurkino, index: 0, modified name: \n",
      "Original name: Krylatskoe, index: 0, modified name: \n",
      "Original name: Solncevo, index: 0, modified name: \n",
      "Original name: Poselenie Sosenskoe, index: 1, modified name: P\n",
      "Original name: Poselenie Voskresenskoe, index: 0, modified name: \n",
      "Original name: Golovinskoe, index: 0, modified name: \n",
      "Original name: Juzhnoe Tushino, index: 0, modified name: \n",
      "Original name: Severnoe Tushino, index: 0, modified name: \n",
      "Original name: Cheremushki, index: 0, modified name: \n",
      "Original name: Pokrovskoe Streshnevo, index: 0, modified name: \n",
      "Original name: Horoshevo-Mnevniki, index: 0, modified name: \n",
      "Original name: Ochakovo-Matveevskoe, index: 0, modified name: \n",
      "Original name: Troparevo-Nikulino, index: 0, modified name: \n",
      "Original name: Levoberezhnoe, index: 0, modified name: \n",
      "Original name: Fili Davydkovo, index: 0, modified name: \n",
      "Original name: Obruchevskoe, index: 0, modified name: \n",
      "Original name: Poselenie Rjazanovskoe, index: 0, modified name: \n",
      "Original name: Ramenki, index: 0, modified name: \n",
      "Original name: Vojkovskoe, index: 0, modified name: \n",
      "Original name: Sokol, index: 0, modified name: \n",
      "Original name: Zapadnoe Degunino, index: 0, modified name: \n",
      "Original name: Prospekt Vernadskogo, index: 0, modified name: \n",
      "Original name: Juzhnoe Butovo, index: 0, modified name: \n",
      "Original name: Jasenevo, index: 0, modified name: \n",
      "Original name: Dorogomilovo, index: 0, modified name: \n",
      "Original name: Kon'kovo, index: 0, modified name: \n",
      "Original name: Horoshevskoe, index: 0, modified name: \n",
      "Original name: Begovoe, index: 0, modified name: \n",
      "Original name: Koptevo, index: 0, modified name: \n",
      "Original name: Poselenie Shherbinka, index: 0, modified name: \n",
      "Original name: Ajeroport, index: 0, modified name: \n",
      "Original name: Presnenskoe, index: 0, modified name: \n",
      "Original name: Severnoe, index: 0, modified name: \n",
      "Original name: Beskudnikovskoe, index: 0, modified name: \n",
      "Original name: Gagarinskoe, index: 0, modified name: \n",
      "Original name: Timirjazevskoe, index: 0, modified name: \n",
      "Original name: Severnoe Butovo, index: 0, modified name: \n",
      "Original name: Lianozovo, index: 0, modified name: \n",
      "Original name: Hamovniki, index: 0, modified name: \n",
      "Original name: Vostochnoe Degunino, index: 0, modified name: \n",
      "Original name: Savelovskoe, index: 0, modified name: \n",
      "Original name: Akademicheskoe, index: 0, modified name: \n",
      "Original name: Zjuzino, index: 0, modified name: \n",
      "Original name: Altuf'evskoe, index: 0, modified name: \n",
      "Original name: Marfino, index: 0, modified name: \n",
      "Original name: Chertanovo Central'noe, index: 0, modified name: \n",
      "Original name: Otradnoe, index: 0, modified name: \n",
      "Original name: Arbat, index: 0, modified name: \n",
      "Original name: Chertanovo Juzhnoe, index: 0, modified name: \n",
      "Original name: Butyrskoe, index: 0, modified name: \n",
      "Original name: Tverskoe, index: 0, modified name: \n",
      "Original name: Chertanovo Severnoe, index: 0, modified name: \n",
      "Original name: Jakimanka, index: 0, modified name: \n",
      "Original name: Kotlovka, index: 0, modified name: \n",
      "Original name: Ostankinskoe, index: 0, modified name: \n",
      "Original name: Donskoe, index: 0, modified name: \n",
      "Original name: Bibirevo, index: 0, modified name: \n",
      "Original name: Birjulevo Zapadnoe, index: 0, modified name: \n",
      "Original name: Mar'ina Roshha, index: 0, modified name: \n",
      "Original name: Nagornoe, index: 0, modified name: \n",
      "Original name: Sviblovo, index: 0, modified name: \n",
      "Original name: Danilovskoe, index: 0, modified name: \n",
      "Original name: Meshhanskoe, index: 0, modified name: \n",
      "Original name: Juzhnoe Medvedkovo, index: 0, modified name: \n",
      "Original name: Zamoskvorech'e, index: 0, modified name: \n",
      "Original name: Severnoe Medvedkovo, index: 0, modified name: \n",
      "Original name: Nagatino-Sadovniki, index: 0, modified name: \n",
      "Original name: Moskvorech'e-Saburovo, index: 0, modified name: \n",
      "Original name: Caricyno, index: 0, modified name: \n",
      "Original name: Basmannoe, index: 0, modified name: \n",
      "Original name: Krasnosel'skoe, index: 0, modified name: \n",
      "Original name: Rostokino, index: 0, modified name: \n",
      "Original name: Taganskoe, index: 0, modified name: \n",
      "Original name: Alekseevskoe, index: 0, modified name: \n",
      "Original name: Sokol'niki, index: 0, modified name: \n",
      "Original name: Birjulevo Vostochnoe, index: 0, modified name: \n",
      "Original name: Babushkinskoe, index: 0, modified name: \n",
      "Original name: Juzhnoportovoe, index: 0, modified name: \n",
      "Original name: Jaroslavskoe, index: 0, modified name: \n",
      "Original name: Pechatniki, index: 0, modified name: \n",
      "Original name: Bogorodskoe, index: 0, modified name: \n",
      "Original name: Metrogorodok, index: 0, modified name: \n",
      "Original name: Lefortovo, index: 0, modified name: \n",
      "Original name: Orehovo-Borisovo Severnoe, index: 0, modified name: \n",
      "Original name: Losinoostrovskoe, index: 0, modified name: \n",
      "Original name: Nizhegorodskoe, index: 0, modified name: \n",
      "Original name: Perovo, index: 0, modified name: \n",
      "Original name: Orehovo-Borisovo Juzhnoe, index: 0, modified name: \n",
      "Original name: Mar'ino, index: 0, modified name: \n",
      "Original name: Veshnjaki, index: 0, modified name: \n",
      "Original name: Preobrazhenskoe, index: 0, modified name: \n",
      "Original name: Sokolinaja Gora, index: 0, modified name: \n",
      "Original name: Ljublino, index: 0, modified name: \n",
      "Original name: Tekstil'shhiki, index: 0, modified name: \n",
      "Original name: Brateevo, index: 0, modified name: \n",
      "Original name: Zjablikovo, index: 0, modified name: \n",
      "Original name: Rjazanskij, index: 0, modified name: \n",
      "Original name: Izmajlovo, index: 0, modified name: \n",
      "Original name: Novogireevo, index: 0, modified name: \n",
      "Original name: Kuz'minki, index: 0, modified name: \n",
      "Original name: Gol'janovo, index: 0, modified name: \n",
      "Original name: Severnoe Izmajlovo, index: 0, modified name: \n",
      "Original name: Kapotnja, index: 0, modified name: \n",
      "Original name: Vyhino-Zhulebino, index: 0, modified name: \n",
      "Original name: Vostochnoe, index: 0, modified name: \n",
      "Original name: Vostochnoe Izmajlovo, index: 0, modified name: \n",
      "Original name: Ivanovskoe, index: 0, modified name: \n",
      "Original name: Kosino-Uhtomskoe, index: 0, modified name: \n",
      "Original name: Novokosino, index: 0, modified name: \n",
      "Original name: Nekrasovka, index: 0, modified name: \n",
      "Original name: Kuncevo, index: 1, modified name: K\n"
     ]
    }
   ],
   "source": [
    "# QUESTION: For each 50 sq km size of the region, print one character\n",
    "# Shhukino region has 140 sq -> Sh\n",
    "# Poselenie Krasnopahorskoe has 250 sq -> Posel\n",
    "\n",
    "cursor = arcpy.da.SearchCursor(moscow_shp, ['*'])\n",
    "for row in cursor:\n",
    "    index =  int(row[6]/50)\n",
    "    print(\"Original name: \" + row[4] + \", index: \" + str(index) + \", modified name: \" + row[4][0:index])\n",
    "    #print(row[4][0:index])\n",
    "    #if(row[6]>50 and row[6]<100):\n",
    "    #    print(\"Original name: \" + row[4] + \" , modified name: \" + row[4][0:1])\n",
    "    #elif(row[6]>100 and row[6]<150):\n",
    "    #    print(\"Original name: \" + row[4] + \" , modified name: \" + row[4][0:2])"
   ]
  },
  {
   "cell_type": "code",
   "execution_count": 44,
   "metadata": {},
   "outputs": [
    {
     "ename": "ExecuteError",
     "evalue": "Failed to execute. Parameters are not valid.\nERROR 000725: Output Layer: Dataset selection_layer already exists.\nFailed to execute (MakeFeatureLayer).\n",
     "output_type": "error",
     "traceback": [
      "\u001b[1;31m---------------------------------------------------------------------------\u001b[0m",
      "\u001b[1;31mExecuteError\u001b[0m                              Traceback (most recent call last)",
      "\u001b[1;32m<ipython-input-44-95f5f501358b>\u001b[0m in \u001b[0;36m<module>\u001b[1;34m\u001b[0m\n\u001b[1;32m----> 1\u001b[1;33m \u001b[0marcpy\u001b[0m\u001b[1;33m.\u001b[0m\u001b[0mMakeFeatureLayer_management\u001b[0m\u001b[1;33m(\u001b[0m\u001b[0mmoscow_shp\u001b[0m\u001b[1;33m,\u001b[0m \u001b[1;34m\"selection_layer\"\u001b[0m\u001b[1;33m)\u001b[0m\u001b[1;33m\u001b[0m\u001b[1;33m\u001b[0m\u001b[0m\n\u001b[0m\u001b[0;32m      2\u001b[0m \u001b[0marcpy\u001b[0m\u001b[1;33m.\u001b[0m\u001b[0mSelectLayerByAttribute_management\u001b[0m\u001b[1;33m(\u001b[0m\u001b[1;34m\"selection_layer\"\u001b[0m\u001b[1;33m,\u001b[0m \u001b[1;34m\"NEW_SELECTION\"\u001b[0m\u001b[1;33m,\u001b[0m \u001b[1;34m'\"AREA_GEO\" > 100'\u001b[0m\u001b[1;33m)\u001b[0m\u001b[1;33m\u001b[0m\u001b[1;33m\u001b[0m\u001b[0m\n\u001b[0;32m      3\u001b[0m \u001b[0mcursor\u001b[0m \u001b[1;33m=\u001b[0m \u001b[0marcpy\u001b[0m\u001b[1;33m.\u001b[0m\u001b[0mda\u001b[0m\u001b[1;33m.\u001b[0m\u001b[0mSearchCursor\u001b[0m\u001b[1;33m(\u001b[0m\u001b[1;34m\"selection_layer\"\u001b[0m\u001b[1;33m,\u001b[0m \u001b[1;33m[\u001b[0m\u001b[1;34m'*'\u001b[0m\u001b[1;33m]\u001b[0m\u001b[1;33m)\u001b[0m\u001b[1;33m\u001b[0m\u001b[1;33m\u001b[0m\u001b[0m\n",
      "\u001b[1;32mC:\\Program Files\\ArcGIS\\Pro\\Resources\\ArcPy\\arcpy\\management.py\u001b[0m in \u001b[0;36mMakeFeatureLayer\u001b[1;34m(in_features, out_layer, where_clause, workspace, field_info)\u001b[0m\n\u001b[0;32m   7354\u001b[0m         \u001b[1;32mreturn\u001b[0m \u001b[0mretval\u001b[0m\u001b[1;33m\u001b[0m\u001b[1;33m\u001b[0m\u001b[0m\n\u001b[0;32m   7355\u001b[0m     \u001b[1;32mexcept\u001b[0m \u001b[0mException\u001b[0m \u001b[1;32mas\u001b[0m \u001b[0me\u001b[0m\u001b[1;33m:\u001b[0m\u001b[1;33m\u001b[0m\u001b[1;33m\u001b[0m\u001b[0m\n\u001b[1;32m-> 7356\u001b[1;33m         \u001b[1;32mraise\u001b[0m \u001b[0me\u001b[0m\u001b[1;33m\u001b[0m\u001b[1;33m\u001b[0m\u001b[0m\n\u001b[0m\u001b[0;32m   7357\u001b[0m \u001b[1;33m\u001b[0m\u001b[0m\n\u001b[0;32m   7358\u001b[0m \u001b[1;33m@\u001b[0m\u001b[0mgptooldoc\u001b[0m\u001b[1;33m(\u001b[0m\u001b[1;34m'MakeImageServerLayer_management'\u001b[0m\u001b[1;33m,\u001b[0m \u001b[1;32mNone\u001b[0m\u001b[1;33m)\u001b[0m\u001b[1;33m\u001b[0m\u001b[1;33m\u001b[0m\u001b[0m\n",
      "\u001b[1;32mC:\\Program Files\\ArcGIS\\Pro\\Resources\\ArcPy\\arcpy\\management.py\u001b[0m in \u001b[0;36mMakeFeatureLayer\u001b[1;34m(in_features, out_layer, where_clause, workspace, field_info)\u001b[0m\n\u001b[0;32m   7351\u001b[0m     \u001b[1;32mfrom\u001b[0m \u001b[0marcpy\u001b[0m\u001b[1;33m.\u001b[0m\u001b[0marcobjects\u001b[0m\u001b[1;33m.\u001b[0m\u001b[0marcobjectconversion\u001b[0m \u001b[1;32mimport\u001b[0m \u001b[0mconvertArcObjectToPythonObject\u001b[0m\u001b[1;33m\u001b[0m\u001b[1;33m\u001b[0m\u001b[0m\n\u001b[0;32m   7352\u001b[0m     \u001b[1;32mtry\u001b[0m\u001b[1;33m:\u001b[0m\u001b[1;33m\u001b[0m\u001b[1;33m\u001b[0m\u001b[0m\n\u001b[1;32m-> 7353\u001b[1;33m         \u001b[0mretval\u001b[0m \u001b[1;33m=\u001b[0m \u001b[0mconvertArcObjectToPythonObject\u001b[0m\u001b[1;33m(\u001b[0m\u001b[0mgp\u001b[0m\u001b[1;33m.\u001b[0m\u001b[0mMakeFeatureLayer_management\u001b[0m\u001b[1;33m(\u001b[0m\u001b[1;33m*\u001b[0m\u001b[0mgp_fixargs\u001b[0m\u001b[1;33m(\u001b[0m\u001b[1;33m(\u001b[0m\u001b[0min_features\u001b[0m\u001b[1;33m,\u001b[0m \u001b[0mout_layer\u001b[0m\u001b[1;33m,\u001b[0m \u001b[0mwhere_clause\u001b[0m\u001b[1;33m,\u001b[0m \u001b[0mworkspace\u001b[0m\u001b[1;33m,\u001b[0m \u001b[0mfield_info\u001b[0m\u001b[1;33m)\u001b[0m\u001b[1;33m,\u001b[0m \u001b[1;32mTrue\u001b[0m\u001b[1;33m)\u001b[0m\u001b[1;33m)\u001b[0m\u001b[1;33m)\u001b[0m\u001b[1;33m\u001b[0m\u001b[1;33m\u001b[0m\u001b[0m\n\u001b[0m\u001b[0;32m   7354\u001b[0m         \u001b[1;32mreturn\u001b[0m \u001b[0mretval\u001b[0m\u001b[1;33m\u001b[0m\u001b[1;33m\u001b[0m\u001b[0m\n\u001b[0;32m   7355\u001b[0m     \u001b[1;32mexcept\u001b[0m \u001b[0mException\u001b[0m \u001b[1;32mas\u001b[0m \u001b[0me\u001b[0m\u001b[1;33m:\u001b[0m\u001b[1;33m\u001b[0m\u001b[1;33m\u001b[0m\u001b[0m\n",
      "\u001b[1;32mC:\\Program Files\\ArcGIS\\Pro\\Resources\\ArcPy\\arcpy\\geoprocessing\\_base.py\u001b[0m in \u001b[0;36m<lambda>\u001b[1;34m(*args)\u001b[0m\n\u001b[0;32m    504\u001b[0m         \u001b[0mval\u001b[0m \u001b[1;33m=\u001b[0m \u001b[0mgetattr\u001b[0m\u001b[1;33m(\u001b[0m\u001b[0mself\u001b[0m\u001b[1;33m.\u001b[0m\u001b[0m_gp\u001b[0m\u001b[1;33m,\u001b[0m \u001b[0mattr\u001b[0m\u001b[1;33m)\u001b[0m\u001b[1;33m\u001b[0m\u001b[1;33m\u001b[0m\u001b[0m\n\u001b[0;32m    505\u001b[0m         \u001b[1;32mif\u001b[0m \u001b[0mcallable\u001b[0m\u001b[1;33m(\u001b[0m\u001b[0mval\u001b[0m\u001b[1;33m)\u001b[0m\u001b[1;33m:\u001b[0m\u001b[1;33m\u001b[0m\u001b[1;33m\u001b[0m\u001b[0m\n\u001b[1;32m--> 506\u001b[1;33m             \u001b[1;32mreturn\u001b[0m \u001b[1;32mlambda\u001b[0m \u001b[1;33m*\u001b[0m\u001b[0margs\u001b[0m\u001b[1;33m:\u001b[0m \u001b[0mval\u001b[0m\u001b[1;33m(\u001b[0m\u001b[1;33m*\u001b[0m\u001b[0mgp_fixargs\u001b[0m\u001b[1;33m(\u001b[0m\u001b[0margs\u001b[0m\u001b[1;33m,\u001b[0m \u001b[1;32mTrue\u001b[0m\u001b[1;33m)\u001b[0m\u001b[1;33m)\u001b[0m\u001b[1;33m\u001b[0m\u001b[1;33m\u001b[0m\u001b[0m\n\u001b[0m\u001b[0;32m    507\u001b[0m         \u001b[1;32melse\u001b[0m\u001b[1;33m:\u001b[0m\u001b[1;33m\u001b[0m\u001b[1;33m\u001b[0m\u001b[0m\n\u001b[0;32m    508\u001b[0m             \u001b[1;32mreturn\u001b[0m \u001b[0mconvertArcObjectToPythonObject\u001b[0m\u001b[1;33m(\u001b[0m\u001b[0mval\u001b[0m\u001b[1;33m)\u001b[0m\u001b[1;33m\u001b[0m\u001b[1;33m\u001b[0m\u001b[0m\n",
      "\u001b[1;31mExecuteError\u001b[0m: Failed to execute. Parameters are not valid.\nERROR 000725: Output Layer: Dataset selection_layer already exists.\nFailed to execute (MakeFeatureLayer).\n"
     ]
    }
   ],
   "source": [
    "arcpy.MakeFeatureLayer_management(moscow_shp, \"selection_layer\")\n"
   ]
  },
  {
   "cell_type": "code",
   "execution_count": 41,
   "metadata": {},
   "outputs": [
    {
     "data": {
      "text/plain": [
       "<Result 'selection_layer'>"
      ]
     },
     "execution_count": 41,
     "metadata": {},
     "output_type": "execute_result"
    }
   ],
   "source": [
    "arcpy.MakeFeatureLayer_management(moscow_shp, \"selection_layer\")"
   ]
  },
  {
   "cell_type": "code",
   "execution_count": 45,
   "metadata": {},
   "outputs": [
    {
     "name": "stdout",
     "output_type": "stream",
     "text": [
      "(2, (36.947209564668604, 55.443826902772344), '45298567', '45954000', 'Poselenie Novofedorovskoe', 'Troitsky', 150.762617805)\n",
      "(3, (37.06466278747632, 55.220557473915726), '45298575', '45956000', 'Poselenie Rogovskoe', 'Troitsky', 178.092412498)\n",
      "(5, (37.133416285382, 55.322055423288475), '45298553', '45943000', 'Poselenie Voronovskoe', 'Troitsky', 206.152376741)\n",
      "(8, (37.20720896295306, 55.50681085541479), '45298572', '45955000', 'Poselenie Pervomajskoe', 'Troitsky', 118.776125461)\n",
      "(20, (37.33021680064756, 55.29771212678532), '45298558', '45946000', 'Poselenie Klenovskoe', 'Troitsky', 118.182804232)\n"
     ]
    }
   ],
   "source": [
    "# \"selection_layer\", \"NEW_SELECTION\", '\"AREA_GEO\" > 100')\n",
    "arcpy.SelectLayerByAttribute_management(\"selection_layer\", \"NEW_SELECTION\", '\"AREA_GEO\" > 100')\n",
    "cursor = arcpy.da.SearchCursor(\"selection_layer\", ['*'])\n",
    "for row in cursor:\n",
    "    print(row)\n"
   ]
  },
  {
   "cell_type": "code",
   "execution_count": 46,
   "metadata": {},
   "outputs": [
    {
     "data": {
      "text/plain": [
       "<Result 'C:/EsriTraining/moscow\\\\moscowbig2.shp'>"
      ]
     },
     "execution_count": 46,
     "metadata": {},
     "output_type": "execute_result"
    }
   ],
   "source": [
    "arcpy.CopyFeatures_management(\"selection_layer\", \"moscowbig2.shp\")"
   ]
  },
  {
   "cell_type": "code",
   "execution_count": null,
   "metadata": {},
   "outputs": [],
   "source": []
  },
  {
   "cell_type": "code",
   "execution_count": 51,
   "metadata": {},
   "outputs": [
    {
     "data": {
      "text/plain": [
       "<Result 'C:/EsriTraining/moscow\\\\airportBuffer2.shp'>"
      ]
     },
     "execution_count": 51,
     "metadata": {},
     "output_type": "execute_result"
    }
   ],
   "source": [
    "arcpy.env.overwriteOutput = True\n",
    "arcpy.Buffer_analysis(airport_shp, \"airportBuffer2.shp\", \"35 Kilometers\")"
   ]
  },
  {
   "cell_type": "code",
   "execution_count": 53,
   "metadata": {},
   "outputs": [
    {
     "data": {
      "text/plain": [
       "<Result 'C:/EsriTraining/moscow\\\\airportInt.shp'>"
      ]
     },
     "execution_count": 53,
     "metadata": {},
     "output_type": "execute_result"
    }
   ],
   "source": [
    "arcpy.Intersect_analysis([\"moscowbig2.shp\", \"airportBuffer2.shp\"],\"airportInt.shp\")"
   ]
  },
  {
   "cell_type": "code",
   "execution_count": 54,
   "metadata": {},
   "outputs": [
    {
     "data": {
      "text/plain": [
       "<Result 'C:/EsriTraining/moscow\\\\airportInt2.shp'>"
      ]
     },
     "execution_count": 54,
     "metadata": {},
     "output_type": "execute_result"
    }
   ],
   "source": [
    "import arcpy\n",
    "arcpy.env.overwriteOutput = True\n",
    "\n",
    "arcpy.env.workspace = \"C:/EsriTraining/moscow\"\n",
    "moscow_shp = \"moscow_adm.shp\"\n",
    "airport_shp = \"ne_10m_airports.shp\"\n",
    "\n",
    "arcpy.MakeFeatureLayer_management(moscow_shp, \"selection_layer\")\n",
    "arcpy.SelectLayerByAttribute_management(\"selection_layer\", \"NEW_SELECTION\", '\"AREA_GEO\" > 80')\n",
    "arcpy.CopyFeatures_management(\"selection_layer\", \"moscowbig2.shp\")\n",
    "\n",
    "arcpy.Buffer_analysis(airport_shp, \"airportBuffer2.shp\", \"45 Kilometers\")\n",
    "\n",
    "arcpy.Intersect_analysis([\"moscowbig2.shp\", \"airportBuffer2.shp\"],\"airportInt2.shp\")"
   ]
  },
  {
   "cell_type": "code",
   "execution_count": null,
   "metadata": {},
   "outputs": [],
   "source": []
  }
 ],
 "metadata": {
  "kernelspec": {
   "display_name": "Python 3",
   "language": "python",
   "name": "python3"
  },
  "language_info": {
   "codemirror_mode": {
    "name": "ipython",
    "version": 3
   },
   "file_extension": ".py",
   "mimetype": "text/x-python",
   "name": "python",
   "nbconvert_exporter": "python",
   "pygments_lexer": "ipython3",
   "version": "3.6.8"
  }
 },
 "nbformat": 4,
 "nbformat_minor": 2
}
