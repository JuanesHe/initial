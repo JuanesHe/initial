{
 "cells": [
  {
   "cell_type": "code",
   "execution_count": 1,
   "metadata": {},
   "outputs": [],
   "source": [
    "import arcpy"
   ]
  },
  {
   "cell_type": "code",
   "execution_count": 11,
   "metadata": {},
   "outputs": [],
   "source": [
    "arcpy.env.workspace = \"C:/EsriTraining/3. administrative-divisions-of-moscow\"\n",
    "fc = \"moscow_adm.shp\""
   ]
  },
  {
   "cell_type": "code",
   "execution_count": 12,
   "metadata": {},
   "outputs": [
    {
     "name": "stdout",
     "output_type": "stream",
     "text": [
      "True\n"
     ]
    }
   ],
   "source": [
    "print(arcpy.Exists(fc))"
   ]
  },
  {
   "cell_type": "code",
   "execution_count": 13,
   "metadata": {},
   "outputs": [
    {
     "name": "stdout",
     "output_type": "stream",
     "text": [
      "GCS_WGS_1984\n"
     ]
    }
   ],
   "source": [
    "sr = arcpy.Describe(fc).spatialReference\n",
    "print(sr.name)"
   ]
  },
  {
   "cell_type": "code",
   "execution_count": 16,
   "metadata": {},
   "outputs": [
    {
     "name": "stdout",
     "output_type": "stream",
     "text": [
      "FID\n",
      "Shape\n",
      "OKATO\n",
      "OKTMO\n",
      "RAION\n",
      "OKRUGS\n"
     ]
    }
   ],
   "source": [
    "fields = arcpy.ListFields(fc)\n",
    "for field in fields:\n",
    "    print(field.name)"
   ]
  },
  {
   "cell_type": "code",
   "execution_count": 17,
   "metadata": {},
   "outputs": [
    {
     "name": "stdout",
     "output_type": "stream",
     "text": [
      "FID is a type of OID\n",
      "Shape is a type of Geometry\n",
      "OKATO is a type of String\n",
      "OKTMO is a type of String\n",
      "RAION is a type of String\n",
      "OKRUGS is a type of String\n"
     ]
    }
   ],
   "source": [
    "for field in fields:\n",
    "    print(field.name + \" is a type of \" + field.type)"
   ]
  },
  {
   "cell_type": "code",
   "execution_count": 18,
   "metadata": {},
   "outputs": [],
   "source": [
    "fieldName_list = []\n",
    "for field in fields:\n",
    "    fieldName_list.append(field.name)"
   ]
  },
  {
   "cell_type": "code",
   "execution_count": 19,
   "metadata": {},
   "outputs": [
    {
     "name": "stdout",
     "output_type": "stream",
     "text": [
      "['FID', 'Shape', 'OKATO', 'OKTMO', 'RAION', 'OKRUGS']\n"
     ]
    }
   ],
   "source": [
    "print(fieldName_list)"
   ]
  },
  {
   "cell_type": "code",
   "execution_count": 30,
   "metadata": {},
   "outputs": [
    {
     "name": "stdout",
     "output_type": "stream",
     "text": [
      "13\n"
     ]
    }
   ],
   "source": [
    "field_names = ['*']\n",
    "with arcpy.da.SearchCursor(fc, field_names) as cursor:\n",
    "    for row in cursor:\n",
    "        if(row[4]=='Silino'):            \n",
    "            print(row[0])"
   ]
  }
 ],
 "metadata": {
  "kernelspec": {
   "display_name": "Python 3",
   "language": "python",
   "name": "python3"
  },
  "language_info": {
   "codemirror_mode": {
    "name": "ipython",
    "version": 3
   },
   "file_extension": ".py",
   "mimetype": "text/x-python",
   "name": "python",
   "nbconvert_exporter": "python",
   "pygments_lexer": "ipython3",
   "version": "3.6.8"
  }
 },
 "nbformat": 4,
 "nbformat_minor": 2
}
