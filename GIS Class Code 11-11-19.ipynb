{
 "cells": [
  {
   "cell_type": "code",
   "execution_count": 2,
   "metadata": {},
   "outputs": [
    {
     "name": "stdout",
     "output_type": "stream",
     "text": [
      "X is larger than zero\n"
     ]
    }
   ],
   "source": [
    "x = 1\n",
    "if x>0:\n",
    "    print(\"X is larger than zero\")"
   ]
  },
  {
   "cell_type": "code",
   "execution_count": 4,
   "metadata": {},
   "outputs": [
    {
     "ename": "SyntaxError",
     "evalue": "can't assign to literal (<ipython-input-4-7a8c323efa01>, line 2)",
     "output_type": "error",
     "traceback": [
      "\u001b[1;36m  File \u001b[1;32m\"<ipython-input-4-7a8c323efa01>\"\u001b[1;36m, line \u001b[1;32m2\u001b[0m\n\u001b[1;33m    10 = b\u001b[0m\n\u001b[1;37m          ^\u001b[0m\n\u001b[1;31mSyntaxError\u001b[0m\u001b[1;31m:\u001b[0m can't assign to literal\n"
     ]
    }
   ],
   "source": [
    "a = 12\n",
    "10 = b"
   ]
  },
  {
   "cell_type": "code",
   "execution_count": 9,
   "metadata": {},
   "outputs": [
    {
     "data": {
      "text/plain": [
       "bool"
      ]
     },
     "execution_count": 9,
     "metadata": {},
     "output_type": "execute_result"
    }
   ],
   "source": [
    "name=\"Naji\"\n",
    "age = 39\n",
    "test = 10.3\n",
    "test_bool = True\n",
    "\n",
    "type(test_bool)"
   ]
  },
  {
   "cell_type": "code",
   "execution_count": 11,
   "metadata": {},
   "outputs": [
    {
     "name": "stdout",
     "output_type": "stream",
     "text": [
      "10\n",
      "5\n"
     ]
    }
   ],
   "source": [
    "a = 5\n",
    "b = 10\n",
    "\n",
    "# Write a program that will switch the values of a & b\n",
    "\n",
    "c = a\n",
    "a = b\n",
    "b = c\n",
    "\n",
    "print(a)\n",
    "print(b)"
   ]
  },
  {
   "cell_type": "code",
   "execution_count": 19,
   "metadata": {},
   "outputs": [
    {
     "name": "stdout",
     "output_type": "stream",
     "text": [
      "hussein\n"
     ]
    }
   ],
   "source": [
    "name = \"Abdulhussein\"\n",
    "print(name[5:12])"
   ]
  },
  {
   "cell_type": "code",
   "execution_count": 22,
   "metadata": {},
   "outputs": [
    {
     "name": "stdout",
     "output_type": "stream",
     "text": [
      "My name is Naci\n",
      "Dilekli\n"
     ]
    }
   ],
   "source": [
    "print(\"My name is Naci\\nDilekli\")"
   ]
  },
  {
   "cell_type": "code",
   "execution_count": 24,
   "metadata": {},
   "outputs": [
    {
     "name": "stdout",
     "output_type": "stream",
     "text": [
      "5.1\n"
     ]
    }
   ],
   "source": [
    "myList = [\"Ali\", 5, \"Abdulhussein\", -5, 10.1, \"Shago\"]\n",
    "x = myList[3] + myList[4]\n",
    "print(x)"
   ]
  },
  {
   "cell_type": "code",
   "execution_count": 25,
   "metadata": {},
   "outputs": [
    {
     "name": "stdout",
     "output_type": "stream",
     "text": [
      "Abdul\n"
     ]
    }
   ],
   "source": [
    "print(myList[2][0:5])"
   ]
  },
  {
   "cell_type": "code",
   "execution_count": 27,
   "metadata": {},
   "outputs": [
    {
     "name": "stdout",
     "output_type": "stream",
     "text": [
      "6\n"
     ]
    }
   ],
   "source": [
    "x = 5\n",
    "X = 6\n",
    "print(X)"
   ]
  },
  {
   "cell_type": "code",
   "execution_count": 30,
   "metadata": {},
   "outputs": [
    {
     "name": "stdout",
     "output_type": "stream",
     "text": [
      "['Ali', 0.09999999999999964, 'Hussein', -5, 10.1, 'Shago']\n"
     ]
    }
   ],
   "source": [
    "myList[2] = \"Hussein\"\n",
    "myList[1] = myList[3]*2 + myList[4]\n",
    "print(myList)"
   ]
  },
  {
   "cell_type": "code",
   "execution_count": 33,
   "metadata": {},
   "outputs": [
    {
     "name": "stdout",
     "output_type": "stream",
     "text": [
      "5\n"
     ]
    },
    {
     "data": {
      "text/plain": [
       "True"
      ]
     },
     "execution_count": 33,
     "metadata": {},
     "output_type": "execute_result"
    }
   ],
   "source": [
    "print(x)\n",
    "x == 5"
   ]
  },
  {
   "cell_type": "code",
   "execution_count": 35,
   "metadata": {},
   "outputs": [
    {
     "data": {
      "text/plain": [
       "True"
      ]
     },
     "execution_count": 35,
     "metadata": {},
     "output_type": "execute_result"
    }
   ],
   "source": [
    "a = 10\n",
    "b = 7\n",
    "a>=b+3\n",
    "c = 2"
   ]
  },
  {
   "cell_type": "code",
   "execution_count": 38,
   "metadata": {},
   "outputs": [
    {
     "data": {
      "text/plain": [
       "True"
      ]
     },
     "execution_count": 38,
     "metadata": {},
     "output_type": "execute_result"
    }
   ],
   "source": [
    "a > b or c+5 <= b\n"
   ]
  },
  {
   "cell_type": "code",
   "execution_count": 44,
   "metadata": {},
   "outputs": [
    {
     "name": "stdout",
     "output_type": "stream",
     "text": [
      "a is between 3 and 4\n"
     ]
    }
   ],
   "source": [
    "a = 3\n",
    "b= 3\n",
    "if (a > 5):\n",
    "    print(\"a is larger than 5\")\n",
    "    if (b>7):\n",
    "        print(\"b is larger than 7\")\n",
    "    else:\n",
    "        print(\"b is smaller than 8\")\n",
    "elif (a > 2):\n",
    "    print(\"a is between 3 and 4\")\n",
    "else:\n",
    "    print(\"a is smaller than 2\")"
   ]
  },
  {
   "cell_type": "code",
   "execution_count": 51,
   "metadata": {},
   "outputs": [
    {
     "name": "stdout",
     "output_type": "stream",
     "text": [
      "You can watch the game\n",
      "the price is $20\n"
     ]
    }
   ],
   "source": [
    "# tell if a customer can watch the game\n",
    "# and calculate the ticket price based on the age\n",
    "# customer needs to be over 15 years old, if not tell them\n",
    "# they cannot watch the game\n",
    "# if they are between 16 and 22 the ticket price is $15\n",
    "# if between 23 and 60, the ticket price is $30\n",
    "# and if older than 60, the ticket price is $20\n",
    "\n",
    "age = 65\n",
    "if (age>15):\n",
    "    print(\"You can watch the game\")\n",
    "    if(age<23):\n",
    "        print(\"the price is $15\")\n",
    "    elif(age<=60):\n",
    "        print(\"the price is $30\")\n",
    "    else:\n",
    "        print(\"the price is $20\")\n",
    "else:\n",
    "    print(\"You cannot watch the game\")\n",
    "    \n",
    "# download and install ANACONDA 3\n",
    "\n",
    "# my email address: dilekli-n@rudn.ru"
   ]
  },
  {
   "cell_type": "code",
   "execution_count": 57,
   "metadata": {},
   "outputs": [
    {
     "name": "stdout",
     "output_type": "stream",
     "text": [
      "you don't need to go to the military yet\n"
     ]
    }
   ],
   "source": [
    "# write a program that will tell if a person can/must go the\n",
    "# military. all males above 18 and all females above 21 must\n",
    "# go.\n",
    "\n",
    "age = 18\n",
    "gender = \"female\"\n",
    "\n",
    "if (age>=18 and gender==\"male\") or (age>=21 and gender==\"female\"):\n",
    "    print(\"you must go to the military\")\n",
    "else:\n",
    "    print(\"you don't need to go to the military yet\")\n",
    "    \n"
   ]
  },
  {
   "cell_type": "code",
   "execution_count": 63,
   "metadata": {},
   "outputs": [
    {
     "name": "stdout",
     "output_type": "stream",
     "text": [
      "the third character in the name is: i\n",
      "the third character in the name is: a\n",
      "the third character in the name is: s\n"
     ]
    }
   ],
   "source": [
    "names = [\"Ali\", \"Shago\", \"Hussein\"]\n",
    "for name in names:\n",
    "    print(\"the third character in the name is: \" + name[2])"
   ]
  },
  {
   "cell_type": "code",
   "execution_count": 62,
   "metadata": {},
   "outputs": [
    {
     "name": "stdout",
     "output_type": "stream",
     "text": [
      "my name is Naji. My age is 39\n"
     ]
    }
   ],
   "source": [
    "name = \"Naji\"\n",
    "age = 39\n",
    "print(\"my name is \" + name + \". My age is \" + str(age))"
   ]
  },
  {
   "cell_type": "code",
   "execution_count": 66,
   "metadata": {},
   "outputs": [
    {
     "name": "stdout",
     "output_type": "stream",
     "text": [
      "2 is an even number\n",
      "1 is an odd number\n",
      "6 is an even number\n",
      "7 is an odd number\n",
      "14 is an even number\n",
      "3 is an odd number\n",
      "4 is an even number\n"
     ]
    }
   ],
   "source": [
    "myArray = [2, 1, 6, 7, 14, 3, 4]\n",
    "for number in myArray:\n",
    "    if(number%2==0):\n",
    "        print(str(number) + \" is an even number\")\n",
    "    else:\n",
    "        print(str(number) + \" is an odd number\")"
   ]
  }
 ],
 "metadata": {
  "kernelspec": {
   "display_name": "Python 3",
   "language": "python",
   "name": "python3"
  },
  "language_info": {
   "codemirror_mode": {
    "name": "ipython",
    "version": 3
   },
   "file_extension": ".py",
   "mimetype": "text/x-python",
   "name": "python",
   "nbconvert_exporter": "python",
   "pygments_lexer": "ipython3",
   "version": "3.7.3"
  }
 },
 "nbformat": 4,
 "nbformat_minor": 2
}
