{
 "cells": [
  {
   "cell_type": "code",
   "execution_count": 4,
   "metadata": {},
   "outputs": [
    {
     "name": "stdout",
     "output_type": "stream",
     "text": [
      "I am creating a GDB named myFCs.gdb at C:/EsriTraining/\n"
     ]
    }
   ],
   "source": [
    "# Create a GDB if it doesn't exist\n",
    "\n",
    "import arcpy\n",
    "\n",
    "out_folder = \"C:/EsriTraining/\"\n",
    "out_gdb = \"myFCs.gdb\"\n",
    "\n",
    "if not arcpy.Exists(out_folder + out_gdb):\n",
    "    print(\"I am creating a GDB named \" + out_gdb + \" at \" + out_folder)\n",
    "    arcpy.CreateFileGDB_management(out_folder, out_gdb)"
   ]
  },
  {
   "cell_type": "code",
   "execution_count": 5,
   "metadata": {},
   "outputs": [
    {
     "data": {
      "text/plain": [
       "<Result 'C:\\\\EsriTraining\\\\myFCs.gdb\\\\habitatareas'>"
      ]
     },
     "execution_count": 5,
     "metadata": {},
     "output_type": "execute_result"
    }
   ],
   "source": [
    "# Specify the parameters of the feature class and create it\n",
    "\n",
    "out_name = \"habitatareas\"\n",
    "geometry_type = \"Polygon\"\n",
    "\n",
    "arcpy.CreateFeatureclass_management(out_folder + out_gdb, out_name, \"Polygon\")"
   ]
  },
  {
   "cell_type": "code",
   "execution_count": 6,
   "metadata": {},
   "outputs": [
    {
     "data": {
      "text/plain": [
       "<Result 'C:/EsriTraining/myFCs.gdb/habitatareas'>"
      ]
     },
     "execution_count": 6,
     "metadata": {},
     "output_type": "execute_result"
    }
   ],
   "source": [
    "# Add a field called Name\n",
    "complete_name = out_folder + out_gdb + \"/\" + out_name\n",
    "arcpy.AddField_management(complete_name, \"Name\", \"TEXT\", 255)"
   ]
  },
  {
   "cell_type": "code",
   "execution_count": 7,
   "metadata": {},
   "outputs": [
    {
     "data": {
      "text/plain": [
       "<Result 'C:/EsriTraining/myFCs.gdb/habitatareas'>"
      ]
     },
     "execution_count": 7,
     "metadata": {},
     "output_type": "execute_result"
    }
   ],
   "source": [
    "# Add another field named myId\n",
    "arcpy.AddField_management(complete_name, \"myId\", \"LONG\", 9)"
   ]
  },
  {
   "cell_type": "code",
   "execution_count": 10,
   "metadata": {},
   "outputs": [
    {
     "data": {
      "text/plain": [
       "3"
      ]
     },
     "execution_count": 10,
     "metadata": {},
     "output_type": "execute_result"
    }
   ],
   "source": [
    "# Define the coordinates of the polygon that will be added programatically\n",
    "array = arcpy.Array([\n",
    "    arcpy.Point(0,0),\n",
    "    arcpy.Point(0,1000),\n",
    "    arcpy.Point(1000, 1000),\n",
    "    arcpy.Point(1000, 0)\n",
    "])\n",
    "polygon = arcpy.Polygon(array)\n",
    "\n",
    "insertCur = arcpy.da.InsertCursor(complete_name, ['myId', 'Name', 'SHAPE@'])\n",
    "insertCur.insertRow([6, \"Hussein\", polygon])"
   ]
  },
  {
   "cell_type": "code",
   "execution_count": 15,
   "metadata": {},
   "outputs": [
    {
     "data": {
      "text/plain": [
       "8"
      ]
     },
     "execution_count": 15,
     "metadata": {},
     "output_type": "execute_result"
    }
   ],
   "source": [
    "# Define the coordinates of the polygon that will be added programatically\n",
    "array = arcpy.Array([\n",
    "    arcpy.Point(1500,0),\n",
    "    arcpy.Point(2500,0),\n",
    "    arcpy.Point(2500, 1000),\n",
    "    arcpy.Point(1500, 1000)\n",
    "])\n",
    "polygon = arcpy.Polygon(array)\n",
    "\n",
    "insertCur = arcpy.da.InsertCursor(complete_name, ['myId', 'Name', 'SHAPE@'])\n",
    "insertCur.insertRow([4, \"Juan\", polygon])"
   ]
  },
  {
   "cell_type": "code",
   "execution_count": 16,
   "metadata": {},
   "outputs": [
    {
     "data": {
      "text/plain": [
       "<Result 'C:\\\\EsriTraining\\\\myFCs.gdb\\\\myPoints'>"
      ]
     },
     "execution_count": 16,
     "metadata": {},
     "output_type": "execute_result"
    }
   ],
   "source": [
    "# Create a Point Feature Class\n",
    "arcpy.CreateFeatureclass_management(out_folder + out_gdb, \"myPoints\", \"Point\")"
   ]
  },
  {
   "cell_type": "code",
   "execution_count": 17,
   "metadata": {},
   "outputs": [],
   "source": [
    "del insertCur"
   ]
  },
  {
   "cell_type": "code",
   "execution_count": 18,
   "metadata": {},
   "outputs": [
    {
     "name": "stdout",
     "output_type": "stream",
     "text": [
      "C:/EsriTraining/myFCs.gdb/myPoints\n"
     ]
    }
   ],
   "source": [
    "# Create a variable holding the address of the point layer that I have just made\n",
    "point_layer = out_folder + out_gdb + \"/\" + \"myPoints\"\n",
    "print(point_layer)"
   ]
  },
  {
   "cell_type": "code",
   "execution_count": 43,
   "metadata": {},
   "outputs": [
    {
     "data": {
      "text/plain": [
       "21"
      ]
     },
     "execution_count": 43,
     "metadata": {},
     "output_type": "execute_result"
    }
   ],
   "source": [
    "# create cursor to access the point layer\n",
    "insertCur = arcpy.da.InsertCursor(point_layer, ['SHAPE@'])\n",
    "# add a sample point\n",
    "insertCur.insertRow([(100,50)])"
   ]
  },
  {
   "cell_type": "code",
   "execution_count": 16,
   "metadata": {},
   "outputs": [],
   "source": [
    "# Add 1000 random points\n",
    "\n",
    "import random\n",
    "import arcpy\n",
    "myPoints = \"C:/EsriTraining/myFCs.gdb/myPoints\"\n",
    "# print(random.uniform(0,10))\n",
    "xMin = 0\n",
    "yMin = 0\n",
    "xMax = 1000\n",
    "yMax = 500\n",
    "insertCur = arcpy.da.InsertCursor(myPoints, ['SHAPE@'])\n",
    "\n",
    "for i in range(0,1000):\n",
    "    x = random.uniform(xMin, xMax)\n",
    "    y = random.uniform(yMin, yMax)\n",
    "    insertCur.insertRow([(x,y)])\n",
    "\n"
   ]
  },
  {
   "cell_type": "code",
   "execution_count": 30,
   "metadata": {},
   "outputs": [],
   "source": [
    "# Lets remove all points whose X coordinate is between 400 and 600\n",
    "# and Y coordinate is between 100 and 400\n",
    "\n",
    "import arcpy\n",
    "\n",
    "#del insertCur\n",
    "\n",
    "# Create the update cursor\n",
    "updateCur = arcpy.da.UpdateCursor(myPoints, ['SHAPE@X', 'SHAPE@Y'])\n",
    "\n",
    "# Loop all the features in the layer\n",
    "for row in updateCur:\n",
    "    # print(row[1])\n",
    "    if(row[0]>400 and row[0]<600 and row[1] > 100 and row[1] < 400):\n",
    "        updateCur.deleteRow()\n",
    "del updateCur"
   ]
  }
 ],
 "metadata": {
  "kernelspec": {
   "display_name": "Python 3",
   "language": "python",
   "name": "python3"
  },
  "language_info": {
   "codemirror_mode": {
    "name": "ipython",
    "version": 3
   },
   "file_extension": ".py",
   "mimetype": "text/x-python",
   "name": "python",
   "nbconvert_exporter": "python",
   "pygments_lexer": "ipython3",
   "version": "3.6.8"
  }
 },
 "nbformat": 4,
 "nbformat_minor": 2
}
