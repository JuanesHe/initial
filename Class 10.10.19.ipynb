{
 "cells": [
  {
   "cell_type": "code",
   "execution_count": 3,
   "metadata": {},
   "outputs": [],
   "source": [
    "name = \"Solomon2\""
   ]
  },
  {
   "cell_type": "code",
   "execution_count": 4,
   "metadata": {},
   "outputs": [],
   "source": [
    "if(name==\"Solomon\"):\n",
    "    print(\"Welcome Solomon\")"
   ]
  },
  {
   "cell_type": "code",
   "execution_count": 5,
   "metadata": {},
   "outputs": [],
   "source": []
  },
  {
   "cell_type": "code",
   "execution_count": 8,
   "metadata": {},
   "outputs": [
    {
     "name": "stdout",
     "output_type": "stream",
     "text": [
      "Number equal or smaller than 3\n"
     ]
    }
   ],
   "source": [
    "number = 2\n",
    "if (number>3):\n",
    "    print(\"Number larger than 3\")\n",
    "else:\n",
    "    print(\"Number equal or smaller than 3\")"
   ]
  },
  {
   "cell_type": "code",
   "execution_count": 11,
   "metadata": {},
   "outputs": [
    {
     "name": "stdout",
     "output_type": "stream",
     "text": [
      "You are younger than 5 years old\n"
     ]
    }
   ],
   "source": [
    "age = 25\n",
    "gender = \"Female\"\n",
    "\n",
    "if (age >18):\n",
    "    print(\"You are older than 18 years old\")\n",
    "elif (age < 5):\n",
    "    print(\"You are younger than 5 years old\")\n",
    "else:\n",
    "    print(\"You are between 5 and 18 years old\")"
   ]
  },
  {
   "cell_type": "code",
   "execution_count": 24,
   "metadata": {},
   "outputs": [
    {
     "name": "stdout",
     "output_type": "stream",
     "text": [
      "We can sell you a ticket\n",
      "ticket price is $5\n"
     ]
    }
   ],
   "source": [
    "age = 15\n",
    "       \n",
    "if (age>10):\n",
    "    print(\"We can sell you a ticket\")\n",
    "    if (age<18):\n",
    "        print(\"ticket price is $5\")\n",
    "    elif(age>60):\n",
    "        print(\"ticket price is $7\")\n",
    "    else:\n",
    "        print(\"ticket price is $15\")\n",
    "\n",
    "else:\n",
    "    print(\"you cannot buy a ticket\")\n",
    "\n",
    "        \n",
    "        "
   ]
  },
  {
   "cell_type": "code",
   "execution_count": 29,
   "metadata": {},
   "outputs": [
    {
     "name": "stdout",
     "output_type": "stream",
     "text": [
      "Welcome to the class Solomon\n",
      "Welcome to the class Jack\n",
      "Welcome to the class Benjamin\n",
      "Welcome to the class Udo\n",
      "Welcome to the class Test\n"
     ]
    }
   ],
   "source": [
    "students = [\"Solomon\", \"Jack\", \"Benjamin\", \"Udo\", \"Test\"]\n",
    "for x in students:\n",
    "    print(\"Welcome to the class\", x)"
   ]
  },
  {
   "cell_type": "code",
   "execution_count": 31,
   "metadata": {},
   "outputs": [
    {
     "name": "stdout",
     "output_type": "stream",
     "text": [
      "0\n"
     ]
    }
   ],
   "source": [
    "print(4%2)"
   ]
  },
  {
   "cell_type": "code",
   "execution_count": 36,
   "metadata": {},
   "outputs": [
    {
     "name": "stdout",
     "output_type": "stream",
     "text": [
      "2  is an even number\n",
      "1 is an odd number\n",
      "6  is an even number\n",
      "7 is an odd number\n",
      "14  is an even number\n",
      "3 is an odd number\n",
      "4  is an even number\n"
     ]
    }
   ],
   "source": [
    "myArray = [2, 1, 6, 7, 14, 3, 4]\n",
    "for x in myArray:\n",
    "    if (x%2 == 0):\n",
    "        print(x, \" is an even number\")\n",
    "    else:\n",
    "        print(x, \"is an odd number\")"
   ]
  },
  {
   "cell_type": "code",
   "execution_count": null,
   "metadata": {},
   "outputs": [],
   "source": []
  }
 ],
 "metadata": {
  "kernelspec": {
   "display_name": "Python 3",
   "language": "python",
   "name": "python3"
  },
  "language_info": {
   "codemirror_mode": {
    "name": "ipython",
    "version": 3
   },
   "file_extension": ".py",
   "mimetype": "text/x-python",
   "name": "python",
   "nbconvert_exporter": "python",
   "pygments_lexer": "ipython3",
   "version": "3.7.3"
  }
 },
 "nbformat": 4,
 "nbformat_minor": 2
}
