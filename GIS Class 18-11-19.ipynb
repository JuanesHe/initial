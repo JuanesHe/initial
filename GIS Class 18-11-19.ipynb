{
 "cells": [
  {
   "cell_type": "code",
   "execution_count": 1,
   "metadata": {},
   "outputs": [],
   "source": [
    "import arcpy\n",
    "arcpy.env.workspace = \"C:/EsriTraining/firestation.gdb\"\n",
    "arcpy.env.overwriteOutput = True"
   ]
  },
  {
   "cell_type": "code",
   "execution_count": 5,
   "metadata": {},
   "outputs": [
    {
     "name": "stdout",
     "output_type": "stream",
     "text": [
      "Environmentally_sensitive_area\n",
      "School\n",
      "Existing_fire_station\n",
      "Sites1\n"
     ]
    }
   ],
   "source": [
    "featureclasses = arcpy.ListFeatureClasses()\n",
    "for fc in featureclasses:\n",
    "    print(fc)"
   ]
  },
  {
   "cell_type": "code",
   "execution_count": 6,
   "metadata": {},
   "outputs": [
    {
     "data": {
      "text/plain": [
       "<Result 'C:/EsriTraining/firestation.gdb\\\\Firestation_Buffer'>"
      ]
     },
     "execution_count": 6,
     "metadata": {},
     "output_type": "execute_result"
    }
   ],
   "source": [
    "arcpy.Buffer_analysis(\"Existing_fire_station\", \"Firestation_Buffer\", \"3 Kilometers\")"
   ]
  },
  {
   "cell_type": "code",
   "execution_count": 7,
   "metadata": {},
   "outputs": [
    {
     "data": {
      "text/plain": [
       "<Result 'C:/EsriTraining/firestation.gdb\\\\Env_Buffer'>"
      ]
     },
     "execution_count": 7,
     "metadata": {},
     "output_type": "execute_result"
    }
   ],
   "source": [
    "arcpy.Buffer_analysis(\"Environmentally_sensitive_area\", \"Env_Buffer\", \"2 Kilometers\")"
   ]
  },
  {
   "cell_type": "code",
   "execution_count": 8,
   "metadata": {},
   "outputs": [
    {
     "data": {
      "text/plain": [
       "<Result 'C:/EsriTraining/firestation.gdb\\\\School_Buffer'>"
      ]
     },
     "execution_count": 8,
     "metadata": {},
     "output_type": "execute_result"
    }
   ],
   "source": [
    "arcpy.Buffer_analysis(\"School\", \"School_Buffer\", \"2 Kilometers\")"
   ]
  },
  {
   "cell_type": "code",
   "execution_count": 9,
   "metadata": {},
   "outputs": [
    {
     "data": {
      "text/plain": [
       "<Result 'C:/EsriTraining/firestation.gdb\\\\Criteria_Union'>"
      ]
     },
     "execution_count": 9,
     "metadata": {},
     "output_type": "execute_result"
    }
   ],
   "source": [
    "arcpy.Union_analysis([\"Firestation_Buffer\", \"Env_Buffer\", \"School_Buffer\"], \"Criteria_Union\")"
   ]
  },
  {
   "cell_type": "code",
   "execution_count": 10,
   "metadata": {},
   "outputs": [
    {
     "data": {
      "text/plain": [
       "<Result 'C:/EsriTraining/firestation.gdb\\\\Criteria_Dissolve'>"
      ]
     },
     "execution_count": 10,
     "metadata": {},
     "output_type": "execute_result"
    }
   ],
   "source": [
    "arcpy.Dissolve_management(\"Criteria_Union\", \"Criteria_Dissolve\")"
   ]
  },
  {
   "cell_type": "code",
   "execution_count": 11,
   "metadata": {},
   "outputs": [
    {
     "data": {
      "text/plain": [
       "<Result 'C:/EsriTraining/firestation.gdb\\\\FirstCriteria'>"
      ]
     },
     "execution_count": 11,
     "metadata": {},
     "output_type": "execute_result"
    }
   ],
   "source": [
    "arcpy.Erase_analysis(\"Sites1\", \"Criteria_Dissolve\", \"FirstCriteria\")"
   ]
  },
  {
   "cell_type": "code",
   "execution_count": 12,
   "metadata": {},
   "outputs": [
    {
     "data": {
      "text/plain": [
       "<geoprocessing server result object at 0x2038d7245a8>"
      ]
     },
     "execution_count": 12,
     "metadata": {},
     "output_type": "execute_result"
    }
   ],
   "source": [
    "arcpy.gp.ZonalStatisticsAsTable(\"FirstCriteria\", \"OBJECTID\", \"Slope\",\n",
    "                               \"ZonalStatistics\", \"NODATA\", \"MEAN\")"
   ]
  },
  {
   "cell_type": "code",
   "execution_count": 14,
   "metadata": {},
   "outputs": [
    {
     "data": {
      "text/plain": [
       "<Result 'C:/EsriTraining/firestation.gdb\\\\FirstCriteria'>"
      ]
     },
     "execution_count": 14,
     "metadata": {},
     "output_type": "execute_result"
    }
   ],
   "source": [
    "arcpy.JoinField_management(\"FirstCriteria\", \"OBJECTID\", \"ZonalStatistics\",\n",
    "                          \"OBJECTID_1\", [\"MEAN\"])"
   ]
  },
  {
   "cell_type": "code",
   "execution_count": 17,
   "metadata": {},
   "outputs": [
    {
     "data": {
      "text/plain": [
       "<Result 'C:/EsriTraining/firestation.gdb\\\\FinalResult'>"
      ]
     },
     "execution_count": 17,
     "metadata": {},
     "output_type": "execute_result"
    }
   ],
   "source": [
    "arcpy.MakeFeatureLayer_management(\"FirstCriteria\", \"selection_layer\")\n",
    "arcpy.SelectLayerByAttribute_management(\"selection_layer\", \"NEW_SELECTION\",\n",
    "                                       \"OWNER = 'CITY' And MEAN < 8\")\n",
    "arcpy.CopyFeatures_management(\"selection_layer\", \"FinalResult\")"
   ]
  }
 ],
 "metadata": {
  "kernelspec": {
   "display_name": "Python 3",
   "language": "python",
   "name": "python3"
  },
  "language_info": {
   "codemirror_mode": {
    "name": "ipython",
    "version": 3
   },
   "file_extension": ".py",
   "mimetype": "text/x-python",
   "name": "python",
   "nbconvert_exporter": "python",
   "pygments_lexer": "ipython3",
   "version": "3.6.8"
  }
 },
 "nbformat": 4,
 "nbformat_minor": 2
}
